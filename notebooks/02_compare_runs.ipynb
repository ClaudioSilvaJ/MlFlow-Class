{
 "cells": [
  {
   "cell_type": "code",
   "execution_count": 1,
   "metadata": {},
   "outputs": [
    {
     "name": "stderr",
     "output_type": "stream",
     "text": [
      "2024-04-23 21:21:59.695209: I tensorflow/core/util/port.cc:113] oneDNN custom operations are on. You may see slightly different numerical results due to floating-point round-off errors from different computation orders. To turn them off, set the environment variable `TF_ENABLE_ONEDNN_OPTS=0`.\n",
      "2024-04-23 21:21:59.701521: I external/local_tsl/tsl/cuda/cudart_stub.cc:31] Could not find cuda drivers on your machine, GPU will not be used.\n",
      "2024-04-23 21:21:59.787458: E external/local_xla/xla/stream_executor/cuda/cuda_dnn.cc:9261] Unable to register cuDNN factory: Attempting to register factory for plugin cuDNN when one has already been registered\n",
      "2024-04-23 21:21:59.787518: E external/local_xla/xla/stream_executor/cuda/cuda_fft.cc:607] Unable to register cuFFT factory: Attempting to register factory for plugin cuFFT when one has already been registered\n",
      "2024-04-23 21:21:59.789232: E external/local_xla/xla/stream_executor/cuda/cuda_blas.cc:1515] Unable to register cuBLAS factory: Attempting to register factory for plugin cuBLAS when one has already been registered\n",
      "2024-04-23 21:21:59.797698: I external/local_tsl/tsl/cuda/cudart_stub.cc:31] Could not find cuda drivers on your machine, GPU will not be used.\n",
      "2024-04-23 21:21:59.798690: I tensorflow/core/platform/cpu_feature_guard.cc:182] This TensorFlow binary is optimized to use available CPU instructions in performance-critical operations.\n",
      "To enable the following instructions: AVX2 AVX512F AVX512_VNNI FMA, in other operations, rebuild TensorFlow with the appropriate compiler flags.\n",
      "2024-04-23 21:22:01.739118: W tensorflow/compiler/tf2tensorrt/utils/py_utils.cc:38] TF-TRT Warning: Could not find TensorRT\n"
     ]
    }
   ],
   "source": [
    "import keras\n",
    "import numpy as np\n",
    "import pandas as pd\n",
    "from hyperopt import STATUS_OK, Trials, fmin, hp, tpe\n",
    "from sklearn.metrics import mean_squared_error\n",
    "from sklearn.model_selection import train_test_split\n",
    "\n",
    "import mlflow\n",
    "from mlflow.models import infer_signature\n",
    "\n",
    "import os\n",
    "os.environ[\"TF_CPP_MIN_LOG_LEVEL\"] = \"1\"\n",
    "\n",
    "mlflow.set_tracking_uri(uri=\"http://127.0.0.1:8080\")"
   ]
  },
  {
   "cell_type": "code",
   "execution_count": 2,
   "metadata": {},
   "outputs": [],
   "source": [
    "# Load dataset\n",
    "data = pd.read_csv(\n",
    "    \"https://raw.githubusercontent.com/mlflow/mlflow/master/tests/datasets/winequality-white.csv\",\n",
    "    sep=\";\",\n",
    ")\n",
    "\n",
    "# Split the data into training, validation, and test sets\n",
    "train, test = train_test_split(data, test_size=0.25, random_state=42)\n",
    "train_x = train.drop([\"quality\"], axis=1).values\n",
    "train_y = train[[\"quality\"]].values.ravel()\n",
    "test_x = test.drop([\"quality\"], axis=1).values\n",
    "test_y = test[[\"quality\"]].values.ravel()\n",
    "train_x, valid_x, train_y, valid_y = train_test_split(\n",
    "    train_x, train_y, test_size=0.2, random_state=42\n",
    ")\n",
    "signature = infer_signature(train_x, train_y)"
   ]
  },
  {
   "cell_type": "code",
   "execution_count": 3,
   "metadata": {},
   "outputs": [],
   "source": [
    "def train_model(params, epochs, train_x, train_y, valid_x, valid_y, test_x, test_y):\n",
    "    # Define model architecture\n",
    "    print([train_x.shape[1]])\n",
    "    model = keras.Sequential(\n",
    "        [\n",
    "            keras.Input([train_x.shape[1]]),\n",
    "            keras.layers.Normalization(mean=np.mean(train_x), variance=np.var(train_x)),\n",
    "            keras.layers.Dense(64, activation=\"relu\"),\n",
    "            keras.layers.Dense(1),\n",
    "        ]\n",
    "    )\n",
    "\n",
    "    # Compile model\n",
    "    model.compile(\n",
    "        optimizer=keras.optimizers.SGD(\n",
    "            learning_rate=params[\"lr\"], momentum=params[\"momentum\"]\n",
    "        ),\n",
    "        loss=\"mean_squared_error\",\n",
    "        metrics=[keras.metrics.RootMeanSquaredError()],\n",
    "    )\n",
    "\n",
    "    # Train model with MLflow tracking\n",
    "    with mlflow.start_run(nested=True):\n",
    "        model.fit(\n",
    "            train_x,\n",
    "            train_y,\n",
    "            validation_data=(valid_x, valid_y),\n",
    "            epochs=epochs,\n",
    "            batch_size=64,\n",
    "        )\n",
    "        # Evaluate the model\n",
    "        eval_result = model.evaluate(valid_x, valid_y, batch_size=64)\n",
    "        eval_rmse = eval_result[1]\n",
    "\n",
    "        # Log parameters and results\n",
    "        mlflow.log_params(params)\n",
    "        mlflow.log_metric(\"eval_rmse\", eval_rmse)\n",
    "\n",
    "        # Log model\n",
    "        mlflow.tensorflow.log_model(model, \"model\", signature=signature)\n",
    "\n",
    "        return {\"loss\": eval_rmse, \"status\": STATUS_OK, \"model\": model}"
   ]
  },
  {
   "cell_type": "code",
   "execution_count": 4,
   "metadata": {},
   "outputs": [],
   "source": [
    "def objective(params):\n",
    "    # MLflow will track the parameters and results for each run\n",
    "    result = train_model(\n",
    "        params,\n",
    "        epochs=3,\n",
    "        train_x=train_x,\n",
    "        train_y=train_y,\n",
    "        valid_x=valid_x,\n",
    "        valid_y=valid_y,\n",
    "        test_x=test_x,\n",
    "        test_y=test_y,\n",
    "    )\n",
    "    return result"
   ]
  },
  {
   "cell_type": "code",
   "execution_count": 5,
   "metadata": {},
   "outputs": [],
   "source": [
    "space = {\n",
    "    \"lr\": hp.loguniform(\"lr\", np.log(1e-5), np.log(1e-1)),\n",
    "    \"momentum\": hp.uniform(\"momentum\", 0.0, 1.0),\n",
    "}\n"
   ]
  },
  {
   "cell_type": "code",
   "execution_count": 7,
   "metadata": {},
   "outputs": [
    {
     "name": "stdout",
     "output_type": "stream",
     "text": [
      "[11]                                                 \n",
      "  0%|          | 0/8 [00:00<?, ?trial/s, best loss=?]"
     ]
    },
    {
     "name": "stdout",
     "output_type": "stream",
     "text": [
      "Epoch 1/3                                            \n",
      "\n",
      " 1/46 [..............................] - ETA: 16s - loss: 33.6797 - root_mean_squared_error: 5.8034\n",
      "36/46 [======================>.......] - ETA: 0s - loss: 3.7774 - root_mean_squared_error: 1.9436  \n",
      "46/46 [==============================] - 1s 5ms/step - loss: 3.2580 - root_mean_squared_error: 1.8050 - val_loss: 1.2904 - val_root_mean_squared_error: 1.1359\n",
      "\n",
      "Epoch 2/3                                            \n",
      "\n",
      " 1/46 [..............................] - ETA: 0s - loss: 1.3646 - root_mean_squared_error: 1.1682\n",
      "32/46 [===================>..........] - ETA: 0s - loss: 1.0238 - root_mean_squared_error: 1.0118\n",
      "46/46 [==============================] - 0s 3ms/step - loss: 0.9867 - root_mean_squared_error: 0.9933 - val_loss: 0.8114 - val_root_mean_squared_error: 0.9008\n",
      "\n",
      "Epoch 3/3                                            \n",
      "\n",
      " 1/46 [..............................] - ETA: 0s - loss: 0.6308 - root_mean_squared_error: 0.7942\n",
      "20/46 [============>.................] - ETA: 0s - loss: 0.7911 - root_mean_squared_error: 0.8894\n",
      "41/46 [=========================>....] - ETA: 0s - loss: 0.8064 - root_mean_squared_error: 0.8980\n",
      "46/46 [==============================] - 0s 4ms/step - loss: 0.8037 - root_mean_squared_error: 0.8965 - val_loss: 0.7556 - val_root_mean_squared_error: 0.8693\n",
      "\n",
      " 1/12 [=>............................] - ETA: 0s - loss: 0.7465 - root_mean_squared_error: 0.8640\n",
      "12/12 [==============================] - 0s 2ms/step - loss: 0.7556 - root_mean_squared_error: 0.8693\n",
      "\n",
      "  0%|          | 0/8 [00:01<?, ?trial/s, best loss=?]INFO:tensorflow:Assets written to: /tmp/tmpql_z7uzk/model/data/model/assets\n"
     ]
    },
    {
     "name": "stderr",
     "output_type": "stream",
     "text": [
      "INFO:tensorflow:Assets written to: /tmp/tmpql_z7uzk/model/data/model/assets\n"
     ]
    },
    {
     "name": "stdout",
     "output_type": "stream",
     "text": [
      "[11]                                                                           \n",
      " 12%|█▎        | 1/8 [00:05<00:41,  5.98s/trial, best loss: 0.8692699074745178]"
     ]
    },
    {
     "name": "stderr",
     "output_type": "stream",
     "text": [
      "/mnt/b464db71-2681-49c1-bf62-871043a830fd/class/mlflow_class/.venv/lib/python3.11/site-packages/_distutils_hack/__init__.py:33: UserWarning: Setuptools is replacing distutils.\n",
      "  warnings.warn(\"Setuptools is replacing distutils.\")\n",
      "\n"
     ]
    },
    {
     "name": "stdout",
     "output_type": "stream",
     "text": [
      "Epoch 1/3                                                                      \n",
      "\n",
      " 1/46 [..............................] - ETA: 23s - loss: 33.1424 - root_mean_squared_error: 5.7569\n",
      "23/46 [==============>...............] - ETA: 0s - loss: 5.2318 - root_mean_squared_error: 2.2873  \n",
      "46/46 [==============================] - ETA: 0s - loss: 3.0972 - root_mean_squared_error: 1.7599\n",
      "46/46 [==============================] - 1s 11ms/step - loss: 3.0972 - root_mean_squared_error: 1.7599 - val_loss: 0.7971 - val_root_mean_squared_error: 0.8928\n",
      "\n",
      "Epoch 2/3                                                                      \n",
      "\n",
      " 1/46 [..............................] - ETA: 0s - loss: 0.7349 - root_mean_squared_error: 0.8573\n",
      "20/46 [============>.................] - ETA: 0s - loss: 0.8202 - root_mean_squared_error: 0.9056\n",
      "39/46 [========================>.....] - ETA: 0s - loss: 0.7973 - root_mean_squared_error: 0.8929\n",
      "46/46 [==============================] - 0s 4ms/step - loss: 0.8300 - root_mean_squared_error: 0.9110 - val_loss: 1.1472 - val_root_mean_squared_error: 1.0711\n",
      "\n",
      "Epoch 3/3                                                                      \n",
      "\n",
      " 1/46 [..............................] - ETA: 0s - loss: 1.1491 - root_mean_squared_error: 1.0720\n",
      "22/46 [=============>................] - ETA: 0s - loss: 0.8009 - root_mean_squared_error: 0.8950\n",
      "43/46 [===========================>..] - ETA: 0s - loss: 0.8292 - root_mean_squared_error: 0.9106\n",
      "46/46 [==============================] - 0s 4ms/step - loss: 0.8269 - root_mean_squared_error: 0.9094 - val_loss: 0.7404 - val_root_mean_squared_error: 0.8604\n",
      "\n",
      " 1/12 [=>............................] - ETA: 0s - loss: 0.7256 - root_mean_squared_error: 0.8518\n",
      "12/12 [==============================] - 0s 3ms/step - loss: 0.7404 - root_mean_squared_error: 0.8604\n",
      "\n",
      " 12%|█▎        | 1/8 [00:07<00:41,  5.98s/trial, best loss: 0.8692699074745178]INFO:tensorflow:Assets written to: /tmp/tmpzjmewzbj/model/data/model/assets\n"
     ]
    },
    {
     "name": "stderr",
     "output_type": "stream",
     "text": [
      "INFO:tensorflow:Assets written to: /tmp/tmpzjmewzbj/model/data/model/assets\n"
     ]
    },
    {
     "name": "stdout",
     "output_type": "stream",
     "text": [
      "[11]                                                                           \n",
      "Epoch 1/3                                                                      \n",
      "\n",
      " 1/46 [..............................] - ETA: 14s - loss: 38.4358 - root_mean_squared_error: 6.1997\n",
      "37/46 [=======================>......] - ETA: 0s - loss: 8.0615 - root_mean_squared_error: 2.8393  \n",
      "46/46 [==============================] - 1s 5ms/step - loss: 7.0363 - root_mean_squared_error: 2.6526 - val_loss: 2.9553 - val_root_mean_squared_error: 1.7191\n",
      "\n",
      "Epoch 2/3                                                                      \n",
      "\n",
      " 1/46 [..............................] - ETA: 0s - loss: 2.8539 - root_mean_squared_error: 1.6893\n",
      "35/46 [=====================>........] - ETA: 0s - loss: 2.5620 - root_mean_squared_error: 1.6006\n",
      "46/46 [==============================] - 0s 2ms/step - loss: 2.4727 - root_mean_squared_error: 1.5725 - val_loss: 2.2362 - val_root_mean_squared_error: 1.4954\n",
      "\n",
      "Epoch 3/3                                                                      \n",
      "\n",
      " 1/46 [..............................] - ETA: 0s - loss: 2.5468 - root_mean_squared_error: 1.5959\n",
      "36/46 [======================>.......] - ETA: 0s - loss: 1.9511 - root_mean_squared_error: 1.3968\n",
      "46/46 [==============================] - 0s 2ms/step - loss: 1.8991 - root_mean_squared_error: 1.3781 - val_loss: 1.7158 - val_root_mean_squared_error: 1.3099\n",
      "\n",
      " 1/12 [=>............................] - ETA: 0s - loss: 1.6505 - root_mean_squared_error: 1.2847\n",
      "12/12 [==============================] - 0s 2ms/step - loss: 1.7158 - root_mean_squared_error: 1.3099\n",
      "\n",
      " 25%|██▌       | 2/8 [00:13<00:39,  6.51s/trial, best loss: 0.8604480624198914]INFO:tensorflow:Assets written to: /tmp/tmpayiltnph/model/data/model/assets\n"
     ]
    },
    {
     "name": "stderr",
     "output_type": "stream",
     "text": [
      "INFO:tensorflow:Assets written to: /tmp/tmpayiltnph/model/data/model/assets\n"
     ]
    },
    {
     "name": "stdout",
     "output_type": "stream",
     "text": [
      "[11]                                                                           \n",
      "Epoch 1/3                                                                      \n",
      "\n",
      " 1/46 [..............................] - ETA: 14s - loss: 32.2429 - root_mean_squared_error: 5.6783\n",
      "36/46 [======================>.......] - ETA: 0s - loss: 5.7002 - root_mean_squared_error: 2.3875  \n",
      "46/46 [==============================] - 1s 5ms/step - loss: 4.6570 - root_mean_squared_error: 2.1580 - val_loss: 0.7828 - val_root_mean_squared_error: 0.8848\n",
      "\n",
      "Epoch 2/3                                                                      \n",
      "\n",
      " 1/46 [..............................] - ETA: 0s - loss: 0.8663 - root_mean_squared_error: 0.9307\n",
      "14/46 [========>.....................] - ETA: 0s - loss: 0.8117 - root_mean_squared_error: 0.9010\n",
      "26/46 [===============>..............] - ETA: 0s - loss: 0.7843 - root_mean_squared_error: 0.8856\n",
      "46/46 [==============================] - 0s 4ms/step - loss: 0.7892 - root_mean_squared_error: 0.8884 - val_loss: 0.7841 - val_root_mean_squared_error: 0.8855\n",
      "\n",
      "Epoch 3/3                                                                      \n",
      "\n",
      " 1/46 [..............................] - ETA: 0s - loss: 0.7053 - root_mean_squared_error: 0.8398\n",
      "33/46 [====================>.........] - ETA: 0s - loss: 0.7924 - root_mean_squared_error: 0.8902\n",
      "46/46 [==============================] - 0s 3ms/step - loss: 0.7923 - root_mean_squared_error: 0.8901 - val_loss: 0.7863 - val_root_mean_squared_error: 0.8867\n",
      "\n",
      " 1/12 [=>............................] - ETA: 0s - loss: 0.7498 - root_mean_squared_error: 0.8659\n",
      "12/12 [==============================] - 0s 1ms/step - loss: 0.7863 - root_mean_squared_error: 0.8867\n",
      "\n",
      " 38%|███▊      | 3/8 [00:19<00:29,  5.97s/trial, best loss: 0.8604480624198914]INFO:tensorflow:Assets written to: /tmp/tmpeqidf3j1/model/data/model/assets\n"
     ]
    },
    {
     "name": "stderr",
     "output_type": "stream",
     "text": [
      "INFO:tensorflow:Assets written to: /tmp/tmpeqidf3j1/model/data/model/assets\n"
     ]
    },
    {
     "name": "stdout",
     "output_type": "stream",
     "text": [
      "[11]                                                                           \n",
      "Epoch 1/3                                                                      \n",
      "\n",
      " 1/46 [..............................] - ETA: 14s - loss: 32.6382 - root_mean_squared_error: 5.7130\n",
      "37/46 [=======================>......] - ETA: 0s - loss: 29.9654 - root_mean_squared_error: 5.4741 \n",
      "46/46 [==============================] - 1s 5ms/step - loss: 29.2318 - root_mean_squared_error: 5.4066 - val_loss: 26.1167 - val_root_mean_squared_error: 5.1104\n",
      "\n",
      "Epoch 2/3                                                                      \n",
      "\n",
      " 1/46 [..............................] - ETA: 0s - loss: 24.7660 - root_mean_squared_error: 4.9765\n",
      "34/46 [=====================>........] - ETA: 0s - loss: 23.5264 - root_mean_squared_error: 4.8504\n",
      "46/46 [==============================] - 0s 2ms/step - loss: 22.8919 - root_mean_squared_error: 4.7845 - val_loss: 20.4426 - val_root_mean_squared_error: 4.5214\n",
      "\n",
      "Epoch 3/3                                                                      \n",
      "\n",
      " 1/46 [..............................] - ETA: 0s - loss: 20.3599 - root_mean_squared_error: 4.5122\n",
      "37/46 [=======================>......] - ETA: 0s - loss: 18.1745 - root_mean_squared_error: 4.2632\n",
      "46/46 [==============================] - 0s 2ms/step - loss: 17.7640 - root_mean_squared_error: 4.2147 - val_loss: 15.9086 - val_root_mean_squared_error: 3.9886\n",
      "\n",
      " 1/12 [=>............................] - ETA: 0s - loss: 15.1487 - root_mean_squared_error: 3.8921\n",
      "12/12 [==============================] - 0s 2ms/step - loss: 15.9086 - root_mean_squared_error: 3.9886\n",
      "\n",
      " 50%|█████     | 4/8 [00:24<00:23,  5.90s/trial, best loss: 0.8604480624198914]INFO:tensorflow:Assets written to: /tmp/tmp1nhfiqt9/model/data/model/assets\n"
     ]
    },
    {
     "name": "stderr",
     "output_type": "stream",
     "text": [
      "INFO:tensorflow:Assets written to: /tmp/tmp1nhfiqt9/model/data/model/assets\n"
     ]
    },
    {
     "name": "stdout",
     "output_type": "stream",
     "text": [
      "[11]                                                                           \n",
      "Epoch 1/3                                                                      \n",
      "\n",
      " 1/46 [..............................] - ETA: 14s - loss: 40.5003 - root_mean_squared_error: 6.3640\n",
      "34/46 [=====================>........] - ETA: 0s - loss: 35.3240 - root_mean_squared_error: 5.9434 \n",
      "46/46 [==============================] - 1s 5ms/step - loss: 33.5970 - root_mean_squared_error: 5.7963 - val_loss: 28.2074 - val_root_mean_squared_error: 5.3111\n",
      "\n",
      "Epoch 2/3                                                                      \n",
      "\n",
      " 1/46 [..............................] - ETA: 0s - loss: 28.3848 - root_mean_squared_error: 5.3277\n",
      "34/46 [=====================>........] - ETA: 0s - loss: 24.6932 - root_mean_squared_error: 4.9692\n",
      "46/46 [==============================] - 0s 2ms/step - loss: 23.6097 - root_mean_squared_error: 4.8590 - val_loss: 19.8735 - val_root_mean_squared_error: 4.4580\n",
      "\n",
      "Epoch 3/3                                                                      \n",
      "\n",
      " 1/46 [..............................] - ETA: 0s - loss: 20.4088 - root_mean_squared_error: 4.5176\n",
      "36/46 [======================>.......] - ETA: 0s - loss: 17.0746 - root_mean_squared_error: 4.1321\n",
      "46/46 [==============================] - 0s 2ms/step - loss: 16.3687 - root_mean_squared_error: 4.0458 - val_loss: 13.8258 - val_root_mean_squared_error: 3.7183\n",
      "\n",
      " 1/12 [=>............................] - ETA: 0s - loss: 13.0723 - root_mean_squared_error: 3.6156\n",
      "12/12 [==============================] - 0s 2ms/step - loss: 13.8258 - root_mean_squared_error: 3.7183\n",
      "\n",
      " 62%|██████▎   | 5/8 [00:30<00:17,  5.67s/trial, best loss: 0.8604480624198914]INFO:tensorflow:Assets written to: /tmp/tmps8ldobg1/model/data/model/assets\n"
     ]
    },
    {
     "name": "stderr",
     "output_type": "stream",
     "text": [
      "INFO:tensorflow:Assets written to: /tmp/tmps8ldobg1/model/data/model/assets\n"
     ]
    },
    {
     "name": "stdout",
     "output_type": "stream",
     "text": [
      "[11]                                                                           \n",
      "Epoch 1/3                                                                      \n",
      "\n",
      " 1/46 [..............................] - ETA: 14s - loss: 55.7686 - root_mean_squared_error: 7.4678\n",
      "37/46 [=======================>......] - ETA: 0s - loss: 53.9586 - root_mean_squared_error: 7.3457 \n",
      "46/46 [==============================] - 1s 8ms/step - loss: 53.1065 - root_mean_squared_error: 7.2874 - val_loss: 48.7512 - val_root_mean_squared_error: 6.9822\n",
      "\n",
      "Epoch 2/3                                                                      \n",
      "\n",
      " 1/46 [..............................] - ETA: 0s - loss: 48.4536 - root_mean_squared_error: 6.9609\n",
      "19/46 [===========>..................] - ETA: 0s - loss: 46.9636 - root_mean_squared_error: 6.8530\n",
      "46/46 [==============================] - ETA: 0s - loss: 45.4231 - root_mean_squared_error: 6.7397\n",
      "46/46 [==============================] - 0s 3ms/step - loss: 45.4231 - root_mean_squared_error: 6.7397 - val_loss: 41.9768 - val_root_mean_squared_error: 6.4789\n",
      "\n",
      "Epoch 3/3                                                                      \n",
      "\n",
      " 1/46 [..............................] - ETA: 0s - loss: 41.9532 - root_mean_squared_error: 6.4771\n",
      "32/46 [===================>..........] - ETA: 0s - loss: 39.9041 - root_mean_squared_error: 6.3170\n",
      "46/46 [==============================] - 0s 3ms/step - loss: 39.1408 - root_mean_squared_error: 6.2563 - val_loss: 36.3668 - val_root_mean_squared_error: 6.0305\n",
      "\n",
      " 1/12 [=>............................] - ETA: 0s - loss: 36.9160 - root_mean_squared_error: 6.0759\n",
      "12/12 [==============================] - 0s 2ms/step - loss: 36.3668 - root_mean_squared_error: 6.0305\n",
      "\n",
      " 75%|███████▌  | 6/8 [00:35<00:11,  5.57s/trial, best loss: 0.8604480624198914]INFO:tensorflow:Assets written to: /tmp/tmpse4z6jhi/model/data/model/assets\n"
     ]
    },
    {
     "name": "stderr",
     "output_type": "stream",
     "text": [
      "INFO:tensorflow:Assets written to: /tmp/tmpse4z6jhi/model/data/model/assets\n"
     ]
    },
    {
     "name": "stdout",
     "output_type": "stream",
     "text": [
      "[11]                                                                           \n",
      "Epoch 1/3                                                                      \n",
      "\n",
      " 1/46 [..............................] - ETA: 14s - loss: 32.5058 - root_mean_squared_error: 5.7014\n",
      "35/46 [=====================>........] - ETA: 0s - loss: 30.0512 - root_mean_squared_error: 5.4819 \n",
      "46/46 [==============================] - 1s 6ms/step - loss: 29.5004 - root_mean_squared_error: 5.4314 - val_loss: 27.7989 - val_root_mean_squared_error: 5.2725\n",
      "\n",
      "Epoch 2/3                                                                      \n",
      "\n",
      " 1/46 [..............................] - ETA: 0s - loss: 27.7131 - root_mean_squared_error: 5.2643\n",
      "32/46 [===================>..........] - ETA: 0s - loss: 26.7899 - root_mean_squared_error: 5.1759\n",
      "46/46 [==============================] - 0s 2ms/step - loss: 25.9356 - root_mean_squared_error: 5.0927 - val_loss: 24.4965 - val_root_mean_squared_error: 4.9494\n",
      "\n",
      "Epoch 3/3                                                                      \n",
      "\n",
      " 1/46 [..............................] - ETA: 0s - loss: 24.0775 - root_mean_squared_error: 4.9069\n",
      "38/46 [=======================>......] - ETA: 0s - loss: 22.9888 - root_mean_squared_error: 4.7947\n",
      "46/46 [==============================] - 0s 2ms/step - loss: 22.7856 - root_mean_squared_error: 4.7734 - val_loss: 21.5770 - val_root_mean_squared_error: 4.6451\n",
      "\n",
      " 1/12 [=>............................] - ETA: 0s - loss: 21.3089 - root_mean_squared_error: 4.6162\n",
      "12/12 [==============================] - 0s 2ms/step - loss: 21.5770 - root_mean_squared_error: 4.6451\n",
      "\n",
      " 88%|████████▊ | 7/8 [00:41<00:05,  5.65s/trial, best loss: 0.8604480624198914]INFO:tensorflow:Assets written to: /tmp/tmpgxw9opum/model/data/model/assets\n"
     ]
    },
    {
     "name": "stderr",
     "output_type": "stream",
     "text": [
      "INFO:tensorflow:Assets written to: /tmp/tmpgxw9opum/model/data/model/assets\n"
     ]
    },
    {
     "name": "stdout",
     "output_type": "stream",
     "text": [
      "100%|██████████| 8/8 [00:45<00:00,  5.71s/trial, best loss: 0.8604480624198914]\n",
      "INFO:tensorflow:Assets written to: /tmp/tmprhyeoc9l/model/data/model/assets\n"
     ]
    },
    {
     "name": "stderr",
     "output_type": "stream",
     "text": [
      "INFO:tensorflow:Assets written to: /tmp/tmprhyeoc9l/model/data/model/assets\n"
     ]
    },
    {
     "name": "stdout",
     "output_type": "stream",
     "text": [
      "Best parameters: {'lr': 0.027715442907988143, 'momentum': 0.5305243801827795}\n",
      "Best eval rmse: 0.8604480624198914\n"
     ]
    }
   ],
   "source": [
    "mlflow.set_experiment(\"/wine-quality\")\n",
    "with mlflow.start_run():\n",
    "    # Conduct the hyperparameter search using Hyperopt\n",
    "    trials = Trials()\n",
    "    best = fmin(\n",
    "        fn=objective,\n",
    "        space=space,\n",
    "        algo=tpe.suggest,\n",
    "        max_evals=8,\n",
    "        trials=trials,\n",
    "    )\n",
    "\n",
    "    # Fetch the details of the best run\n",
    "    best_run = sorted(trials.results, key=lambda x: x[\"loss\"])[0]\n",
    "\n",
    "    # Log the best parameters, loss, and model\n",
    "    mlflow.log_params(best)\n",
    "    mlflow.log_metric(\"eval_rmse\", best_run[\"loss\"])\n",
    "    mlflow.tensorflow.log_model(best_run[\"model\"], \"model\", signature=signature)\n",
    "\n",
    "    # Print out the best parameters and corresponding loss\n",
    "    print(f\"Best parameters: {best}\")\n",
    "    print(f\"Best eval rmse: {best_run['loss']}\")\n"
   ]
  },
  {
   "cell_type": "code",
   "execution_count": null,
   "metadata": {},
   "outputs": [],
   "source": []
  }
 ],
 "metadata": {
  "kernelspec": {
   "display_name": ".venv",
   "language": "python",
   "name": "python3"
  },
  "language_info": {
   "codemirror_mode": {
    "name": "ipython",
    "version": 3
   },
   "file_extension": ".py",
   "mimetype": "text/x-python",
   "name": "python",
   "nbconvert_exporter": "python",
   "pygments_lexer": "ipython3",
   "version": "3.11.5"
  }
 },
 "nbformat": 4,
 "nbformat_minor": 2
}
